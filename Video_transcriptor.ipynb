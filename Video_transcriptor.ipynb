{
  "nbformat": 4,
  "nbformat_minor": 0,
  "metadata": {
    "colab": {
      "provenance": []
    },
    "kernelspec": {
      "name": "python3",
      "display_name": "Python 3"
    },
    "language_info": {
      "name": "python"
    }
  },
  "cells": [
    {
      "cell_type": "code",
      "source": [
        "! pip install yt-dlp\n",
        "!pip install git+https://github.com/openai/whisper.git\n",
        "! pip install transformers\n",
        "! pip install torch\n"
      ],
      "metadata": {
        "colab": {
          "base_uri": "https://localhost:8080/"
        },
        "id": "piXGwk_4y5ie",
        "outputId": "729e3701-322b-4d11-8bb6-8375f6190724"
      },
      "execution_count": 5,
      "outputs": [
        {
          "output_type": "stream",
          "name": "stdout",
          "text": [
            "Requirement already satisfied: yt-dlp in /usr/local/lib/python3.11/dist-packages (2025.3.31)\n",
            "Collecting git+https://github.com/openai/whisper.git\n",
            "  Cloning https://github.com/openai/whisper.git to /tmp/pip-req-build-tbqrts28\n",
            "  Running command git clone --filter=blob:none --quiet https://github.com/openai/whisper.git /tmp/pip-req-build-tbqrts28\n",
            "  Resolved https://github.com/openai/whisper.git to commit 517a43ecd132a2089d85f4ebc044728a71d49f6e\n",
            "  Installing build dependencies ... \u001b[?25l\u001b[?25hdone\n",
            "  Getting requirements to build wheel ... \u001b[?25l\u001b[?25hdone\n",
            "  Preparing metadata (pyproject.toml) ... \u001b[?25l\u001b[?25hdone\n",
            "Requirement already satisfied: more-itertools in /usr/local/lib/python3.11/dist-packages (from openai-whisper==20240930) (10.6.0)\n",
            "Requirement already satisfied: numba in /usr/local/lib/python3.11/dist-packages (from openai-whisper==20240930) (0.60.0)\n",
            "Requirement already satisfied: numpy in /usr/local/lib/python3.11/dist-packages (from openai-whisper==20240930) (2.0.2)\n",
            "Requirement already satisfied: tiktoken in /usr/local/lib/python3.11/dist-packages (from openai-whisper==20240930) (0.9.0)\n",
            "Requirement already satisfied: torch in /usr/local/lib/python3.11/dist-packages (from openai-whisper==20240930) (2.6.0+cu124)\n",
            "Requirement already satisfied: tqdm in /usr/local/lib/python3.11/dist-packages (from openai-whisper==20240930) (4.67.1)\n",
            "Requirement already satisfied: triton>=2 in /usr/local/lib/python3.11/dist-packages (from openai-whisper==20240930) (3.2.0)\n",
            "Requirement already satisfied: llvmlite<0.44,>=0.43.0dev0 in /usr/local/lib/python3.11/dist-packages (from numba->openai-whisper==20240930) (0.43.0)\n",
            "Requirement already satisfied: regex>=2022.1.18 in /usr/local/lib/python3.11/dist-packages (from tiktoken->openai-whisper==20240930) (2024.11.6)\n",
            "Requirement already satisfied: requests>=2.26.0 in /usr/local/lib/python3.11/dist-packages (from tiktoken->openai-whisper==20240930) (2.32.3)\n",
            "Requirement already satisfied: filelock in /usr/local/lib/python3.11/dist-packages (from torch->openai-whisper==20240930) (3.18.0)\n",
            "Requirement already satisfied: typing-extensions>=4.10.0 in /usr/local/lib/python3.11/dist-packages (from torch->openai-whisper==20240930) (4.13.1)\n",
            "Requirement already satisfied: networkx in /usr/local/lib/python3.11/dist-packages (from torch->openai-whisper==20240930) (3.4.2)\n",
            "Requirement already satisfied: jinja2 in /usr/local/lib/python3.11/dist-packages (from torch->openai-whisper==20240930) (3.1.6)\n",
            "Requirement already satisfied: fsspec in /usr/local/lib/python3.11/dist-packages (from torch->openai-whisper==20240930) (2025.3.2)\n",
            "Requirement already satisfied: nvidia-cuda-nvrtc-cu12==12.4.127 in /usr/local/lib/python3.11/dist-packages (from torch->openai-whisper==20240930) (12.4.127)\n",
            "Requirement already satisfied: nvidia-cuda-runtime-cu12==12.4.127 in /usr/local/lib/python3.11/dist-packages (from torch->openai-whisper==20240930) (12.4.127)\n",
            "Requirement already satisfied: nvidia-cuda-cupti-cu12==12.4.127 in /usr/local/lib/python3.11/dist-packages (from torch->openai-whisper==20240930) (12.4.127)\n",
            "Requirement already satisfied: nvidia-cudnn-cu12==9.1.0.70 in /usr/local/lib/python3.11/dist-packages (from torch->openai-whisper==20240930) (9.1.0.70)\n",
            "Requirement already satisfied: nvidia-cublas-cu12==12.4.5.8 in /usr/local/lib/python3.11/dist-packages (from torch->openai-whisper==20240930) (12.4.5.8)\n",
            "Requirement already satisfied: nvidia-cufft-cu12==11.2.1.3 in /usr/local/lib/python3.11/dist-packages (from torch->openai-whisper==20240930) (11.2.1.3)\n",
            "Requirement already satisfied: nvidia-curand-cu12==10.3.5.147 in /usr/local/lib/python3.11/dist-packages (from torch->openai-whisper==20240930) (10.3.5.147)\n",
            "Requirement already satisfied: nvidia-cusolver-cu12==11.6.1.9 in /usr/local/lib/python3.11/dist-packages (from torch->openai-whisper==20240930) (11.6.1.9)\n",
            "Requirement already satisfied: nvidia-cusparse-cu12==12.3.1.170 in /usr/local/lib/python3.11/dist-packages (from torch->openai-whisper==20240930) (12.3.1.170)\n",
            "Requirement already satisfied: nvidia-cusparselt-cu12==0.6.2 in /usr/local/lib/python3.11/dist-packages (from torch->openai-whisper==20240930) (0.6.2)\n",
            "Requirement already satisfied: nvidia-nccl-cu12==2.21.5 in /usr/local/lib/python3.11/dist-packages (from torch->openai-whisper==20240930) (2.21.5)\n",
            "Requirement already satisfied: nvidia-nvtx-cu12==12.4.127 in /usr/local/lib/python3.11/dist-packages (from torch->openai-whisper==20240930) (12.4.127)\n",
            "Requirement already satisfied: nvidia-nvjitlink-cu12==12.4.127 in /usr/local/lib/python3.11/dist-packages (from torch->openai-whisper==20240930) (12.4.127)\n",
            "Requirement already satisfied: sympy==1.13.1 in /usr/local/lib/python3.11/dist-packages (from torch->openai-whisper==20240930) (1.13.1)\n",
            "Requirement already satisfied: mpmath<1.4,>=1.1.0 in /usr/local/lib/python3.11/dist-packages (from sympy==1.13.1->torch->openai-whisper==20240930) (1.3.0)\n",
            "Requirement already satisfied: charset-normalizer<4,>=2 in /usr/local/lib/python3.11/dist-packages (from requests>=2.26.0->tiktoken->openai-whisper==20240930) (3.4.1)\n",
            "Requirement already satisfied: idna<4,>=2.5 in /usr/local/lib/python3.11/dist-packages (from requests>=2.26.0->tiktoken->openai-whisper==20240930) (3.10)\n",
            "Requirement already satisfied: urllib3<3,>=1.21.1 in /usr/local/lib/python3.11/dist-packages (from requests>=2.26.0->tiktoken->openai-whisper==20240930) (2.3.0)\n",
            "Requirement already satisfied: certifi>=2017.4.17 in /usr/local/lib/python3.11/dist-packages (from requests>=2.26.0->tiktoken->openai-whisper==20240930) (2025.1.31)\n",
            "Requirement already satisfied: MarkupSafe>=2.0 in /usr/local/lib/python3.11/dist-packages (from jinja2->torch->openai-whisper==20240930) (3.0.2)\n",
            "Requirement already satisfied: transformers in /usr/local/lib/python3.11/dist-packages (4.51.1)\n",
            "Requirement already satisfied: filelock in /usr/local/lib/python3.11/dist-packages (from transformers) (3.18.0)\n",
            "Requirement already satisfied: huggingface-hub<1.0,>=0.30.0 in /usr/local/lib/python3.11/dist-packages (from transformers) (0.30.2)\n",
            "Requirement already satisfied: numpy>=1.17 in /usr/local/lib/python3.11/dist-packages (from transformers) (2.0.2)\n",
            "Requirement already satisfied: packaging>=20.0 in /usr/local/lib/python3.11/dist-packages (from transformers) (24.2)\n",
            "Requirement already satisfied: pyyaml>=5.1 in /usr/local/lib/python3.11/dist-packages (from transformers) (6.0.2)\n",
            "Requirement already satisfied: regex!=2019.12.17 in /usr/local/lib/python3.11/dist-packages (from transformers) (2024.11.6)\n",
            "Requirement already satisfied: requests in /usr/local/lib/python3.11/dist-packages (from transformers) (2.32.3)\n",
            "Requirement already satisfied: tokenizers<0.22,>=0.21 in /usr/local/lib/python3.11/dist-packages (from transformers) (0.21.1)\n",
            "Requirement already satisfied: safetensors>=0.4.3 in /usr/local/lib/python3.11/dist-packages (from transformers) (0.5.3)\n",
            "Requirement already satisfied: tqdm>=4.27 in /usr/local/lib/python3.11/dist-packages (from transformers) (4.67.1)\n",
            "Requirement already satisfied: fsspec>=2023.5.0 in /usr/local/lib/python3.11/dist-packages (from huggingface-hub<1.0,>=0.30.0->transformers) (2025.3.2)\n",
            "Requirement already satisfied: typing-extensions>=3.7.4.3 in /usr/local/lib/python3.11/dist-packages (from huggingface-hub<1.0,>=0.30.0->transformers) (4.13.1)\n",
            "Requirement already satisfied: charset-normalizer<4,>=2 in /usr/local/lib/python3.11/dist-packages (from requests->transformers) (3.4.1)\n",
            "Requirement already satisfied: idna<4,>=2.5 in /usr/local/lib/python3.11/dist-packages (from requests->transformers) (3.10)\n",
            "Requirement already satisfied: urllib3<3,>=1.21.1 in /usr/local/lib/python3.11/dist-packages (from requests->transformers) (2.3.0)\n",
            "Requirement already satisfied: certifi>=2017.4.17 in /usr/local/lib/python3.11/dist-packages (from requests->transformers) (2025.1.31)\n",
            "Requirement already satisfied: torch in /usr/local/lib/python3.11/dist-packages (2.6.0+cu124)\n",
            "Requirement already satisfied: filelock in /usr/local/lib/python3.11/dist-packages (from torch) (3.18.0)\n",
            "Requirement already satisfied: typing-extensions>=4.10.0 in /usr/local/lib/python3.11/dist-packages (from torch) (4.13.1)\n",
            "Requirement already satisfied: networkx in /usr/local/lib/python3.11/dist-packages (from torch) (3.4.2)\n",
            "Requirement already satisfied: jinja2 in /usr/local/lib/python3.11/dist-packages (from torch) (3.1.6)\n",
            "Requirement already satisfied: fsspec in /usr/local/lib/python3.11/dist-packages (from torch) (2025.3.2)\n",
            "Requirement already satisfied: nvidia-cuda-nvrtc-cu12==12.4.127 in /usr/local/lib/python3.11/dist-packages (from torch) (12.4.127)\n",
            "Requirement already satisfied: nvidia-cuda-runtime-cu12==12.4.127 in /usr/local/lib/python3.11/dist-packages (from torch) (12.4.127)\n",
            "Requirement already satisfied: nvidia-cuda-cupti-cu12==12.4.127 in /usr/local/lib/python3.11/dist-packages (from torch) (12.4.127)\n",
            "Requirement already satisfied: nvidia-cudnn-cu12==9.1.0.70 in /usr/local/lib/python3.11/dist-packages (from torch) (9.1.0.70)\n",
            "Requirement already satisfied: nvidia-cublas-cu12==12.4.5.8 in /usr/local/lib/python3.11/dist-packages (from torch) (12.4.5.8)\n",
            "Requirement already satisfied: nvidia-cufft-cu12==11.2.1.3 in /usr/local/lib/python3.11/dist-packages (from torch) (11.2.1.3)\n",
            "Requirement already satisfied: nvidia-curand-cu12==10.3.5.147 in /usr/local/lib/python3.11/dist-packages (from torch) (10.3.5.147)\n",
            "Requirement already satisfied: nvidia-cusolver-cu12==11.6.1.9 in /usr/local/lib/python3.11/dist-packages (from torch) (11.6.1.9)\n",
            "Requirement already satisfied: nvidia-cusparse-cu12==12.3.1.170 in /usr/local/lib/python3.11/dist-packages (from torch) (12.3.1.170)\n",
            "Requirement already satisfied: nvidia-cusparselt-cu12==0.6.2 in /usr/local/lib/python3.11/dist-packages (from torch) (0.6.2)\n",
            "Requirement already satisfied: nvidia-nccl-cu12==2.21.5 in /usr/local/lib/python3.11/dist-packages (from torch) (2.21.5)\n",
            "Requirement already satisfied: nvidia-nvtx-cu12==12.4.127 in /usr/local/lib/python3.11/dist-packages (from torch) (12.4.127)\n",
            "Requirement already satisfied: nvidia-nvjitlink-cu12==12.4.127 in /usr/local/lib/python3.11/dist-packages (from torch) (12.4.127)\n",
            "Requirement already satisfied: triton==3.2.0 in /usr/local/lib/python3.11/dist-packages (from torch) (3.2.0)\n",
            "Requirement already satisfied: sympy==1.13.1 in /usr/local/lib/python3.11/dist-packages (from torch) (1.13.1)\n",
            "Requirement already satisfied: mpmath<1.4,>=1.1.0 in /usr/local/lib/python3.11/dist-packages (from sympy==1.13.1->torch) (1.3.0)\n",
            "Requirement already satisfied: MarkupSafe>=2.0 in /usr/local/lib/python3.11/dist-packages (from jinja2->torch) (3.0.2)\n"
          ]
        }
      ]
    },
    {
      "cell_type": "code",
      "source": [
        "!apt update && apt install ffmpeg -y\n"
      ],
      "metadata": {
        "colab": {
          "base_uri": "https://localhost:8080/"
        },
        "id": "hsHCAgQV0Th9",
        "outputId": "862d242e-4dbb-47ca-bd20-2f17238042c1"
      },
      "execution_count": 3,
      "outputs": [
        {
          "output_type": "stream",
          "name": "stdout",
          "text": [
            "\u001b[33m\r0% [Working]\u001b[0m\r            \rHit:1 https://cloud.r-project.org/bin/linux/ubuntu jammy-cran40/ InRelease\n",
            "Hit:2 https://developer.download.nvidia.com/compute/cuda/repos/ubuntu2204/x86_64  InRelease\n",
            "Hit:3 http://security.ubuntu.com/ubuntu jammy-security InRelease\n",
            "Hit:4 http://archive.ubuntu.com/ubuntu jammy InRelease\n",
            "Get:5 http://archive.ubuntu.com/ubuntu jammy-updates InRelease [128 kB]\n",
            "Hit:6 https://r2u.stat.illinois.edu/ubuntu jammy InRelease\n",
            "Hit:7 https://ppa.launchpadcontent.net/deadsnakes/ppa/ubuntu jammy InRelease\n",
            "Hit:8 https://ppa.launchpadcontent.net/graphics-drivers/ppa/ubuntu jammy InRelease\n",
            "Hit:9 https://ppa.launchpadcontent.net/ubuntugis/ppa/ubuntu jammy InRelease\n",
            "Hit:10 http://archive.ubuntu.com/ubuntu jammy-backports InRelease\n",
            "Get:11 http://archive.ubuntu.com/ubuntu jammy-updates/universe amd64 Packages [1,542 kB]\n",
            "Get:12 http://archive.ubuntu.com/ubuntu jammy-updates/main amd64 Packages [3,140 kB]\n",
            "Get:13 http://archive.ubuntu.com/ubuntu jammy-updates/restricted amd64 Packages [4,246 kB]\n",
            "Fetched 9,056 kB in 5s (1,969 kB/s)\n",
            "Reading package lists... Done\n",
            "Building dependency tree... Done\n",
            "Reading state information... Done\n",
            "49 packages can be upgraded. Run 'apt list --upgradable' to see them.\n",
            "\u001b[1;33mW: \u001b[0mSkipping acquire of configured file 'main/source/Sources' as repository 'https://r2u.stat.illinois.edu/ubuntu jammy InRelease' does not seem to provide it (sources.list entry misspelt?)\u001b[0m\n",
            "Reading package lists... Done\n",
            "Building dependency tree... Done\n",
            "Reading state information... Done\n",
            "ffmpeg is already the newest version (7:4.4.2-0ubuntu0.22.04.1).\n",
            "0 upgraded, 0 newly installed, 0 to remove and 49 not upgraded.\n"
          ]
        }
      ]
    },
    {
      "cell_type": "code",
      "source": [
        "import subprocess\n",
        "import whisper\n",
        "import tempfile\n",
        "import os\n",
        "from io import BytesIO\n",
        "from transformers import pipeline\n",
        "\n",
        "def stream_youtube_audio(video_url):\n",
        "    print(\"🔊 Streaming audio from YouTube...\")\n",
        "    command = [\n",
        "        \"yt-dlp\",\n",
        "        \"-f\", \"bestaudio\",\n",
        "        \"--extract-audio\",\n",
        "        \"--audio-format\", \"mp3\",\n",
        "        \"-o\", \"-\",\n",
        "        video_url\n",
        "    ]\n",
        "\n",
        "    # Run yt-dlp to get the audio in memory (stdout)\n",
        "    process = subprocess.Popen(command, stdout=subprocess.PIPE, stderr=subprocess.PIPE)\n",
        "    stdout, stderr = process.communicate()\n",
        "\n",
        "    if process.returncode != 0:\n",
        "        raise RuntimeError(f\"❌ Error downloading audio: {stderr.decode()}\")\n",
        "\n",
        "    return BytesIO(stdout)  # Return the audio as a BytesIO stream\n",
        "\n",
        "def transcribe_audio(audio_stream):\n",
        "    print(\"🗣️ Transcribing with Whisper...\")\n",
        "    model = whisper.load_model(\"base\")\n",
        "\n",
        "    # Create a temporary file to save the audio data\n",
        "    with tempfile.NamedTemporaryFile(delete=False, suffix='.mp3') as tmp_audio_file:\n",
        "        tmp_audio_file.write(audio_stream.read())\n",
        "        tmp_audio_file_path = tmp_audio_file.name\n",
        "\n",
        "    # Transcribe audio from the temporary file\n",
        "    result = model.transcribe(tmp_audio_file_path)\n",
        "\n",
        "    # Clean up the temporary file\n",
        "    os.remove(tmp_audio_file_path)\n",
        "\n",
        "    return result['text']\n",
        "\n",
        "def summarize_text(text):\n",
        "    print(\"🧠 Summarizing transcript...\")\n",
        "    summarizer = pipeline(\"summarization\", model=\"facebook/bart-large-cnn\")\n",
        "    chunks = [text[i:i+1000] for i in range(0, len(text), 1000)]\n",
        "    summary = \"\"\n",
        "    for chunk in chunks:\n",
        "        out = summarizer(chunk, max_length=130, min_length=30, do_sample=False)\n",
        "        summary += out[0]['summary_text'] + \" \"\n",
        "    return summary.strip()\n",
        "\n",
        "def summarize_youtube_video(video_url):\n",
        "    audio_stream = stream_youtube_audio(video_url)\n",
        "    try:\n",
        "        transcript = transcribe_audio(audio_stream)\n",
        "        summary = summarize_text(transcript)\n",
        "        return summary\n",
        "    finally:\n",
        "        audio_stream.close()\n",
        "\n",
        "\n"
      ],
      "metadata": {
        "id": "W9B6qJfc0WEx"
      },
      "execution_count": 1,
      "outputs": []
    },
    {
      "cell_type": "markdown",
      "source": [
        "Testing"
      ],
      "metadata": {
        "id": "ro5Lap42zXTS"
      }
    },
    {
      "cell_type": "code",
      "source": [
        "# Example usage:\n",
        "video_url = \"https://youtu.be/wo_e0EvEZn8?si=baQuTnFySjjK4KPb\"\n",
        "summary = summarize_youtube_video(video_url)\n",
        "print(f\"Summary: {summary}\")\n",
        "# tHe script takes about 7 minutes to run"
      ],
      "metadata": {
        "colab": {
          "base_uri": "https://localhost:8080/"
        },
        "id": "4nEoK_xZzWi5",
        "outputId": "b3a9e3c5-6150-43a3-e2db-af6082e2a222"
      },
      "execution_count": 2,
      "outputs": [
        {
          "output_type": "stream",
          "name": "stdout",
          "text": [
            "🔊 Streaming audio from YouTube...\n",
            "🗣️ Transcribing with Whisper...\n"
          ]
        },
        {
          "output_type": "stream",
          "name": "stderr",
          "text": [
            "/usr/local/lib/python3.11/dist-packages/whisper/transcribe.py:132: UserWarning: FP16 is not supported on CPU; using FP32 instead\n",
            "  warnings.warn(\"FP16 is not supported on CPU; using FP32 instead\")\n"
          ]
        },
        {
          "output_type": "stream",
          "name": "stdout",
          "text": [
            "🧠 Summarizing transcript...\n"
          ]
        },
        {
          "output_type": "stream",
          "name": "stderr",
          "text": [
            "/usr/local/lib/python3.11/dist-packages/huggingface_hub/utils/_auth.py:94: UserWarning: \n",
            "The secret `HF_TOKEN` does not exist in your Colab secrets.\n",
            "To authenticate with the Hugging Face Hub, create a token in your settings tab (https://huggingface.co/settings/tokens), set it as secret in your Google Colab and restart your session.\n",
            "You will be able to reuse this secret in all of your notebooks.\n",
            "Please note that authentication is recommended but still optional to access public models or datasets.\n",
            "  warnings.warn(\n",
            "Device set to use cpu\n",
            "Your max_length is set to 130, but your input_length is only 99. Since this is a summarization task, where outputs shorter than the input are typically wanted, you might consider decreasing max_length manually, e.g. summarizer('...', max_length=49)\n"
          ]
        },
        {
          "output_type": "stream",
          "name": "stdout",
          "text": [
            "Summary: The world you see is not real. You're not living in this very moment that you're experiencing. It turns out your brain constructs your reality. It edits your memories as they happen. It lives in totally different timesfares and tells you a story about the world that feels real. Each day for around two hours you're completely blind. Your brain fills this time with its best guesses of what happened during the blackness. If you could actually see what your eyes see, it would look something like this. What you feel is now is in fact a selectively edited version of the past. You really only consciously experience the world 0.3 to 0.5 seconds after things happened. If your brain showed you the past whether ball was 100 milliseconds ago it would hit you before you could react. So instead your brain takes its location, speed and direction and calculates where the ball should be in the future. By the time the information reaches you and then it creates a fictional version of it. Your conscious experience is nothing more than an invented future. By the time you consciously see the ball coming at you and decide to hit it in a particular way your body has already hit it back. This is not just true for extreme sports like come, table tennis, but also for walking. Walking is time travel. Your brain is operating in three different timesfares at once. It processes the sensory feedback of the past. It calculates the current state of your body and it predicts your future. Within 200 milliseconds pre-programmed sequences activate to catch your fall. 100 milliseconds later when you become aware that you're tripping your body is already recovering. You are only just now catching up. Your sense of hunger, your energy level and especially your emotions are not just objective reactions to what state you're in but predictions. Your brain's prediction of what you'll need soon or need to be ready for. A self fulfilling prophecy. If your brain predicts anxiousness it adjusts your heart rate, hormone levels and muscle tensions before you even enter the room. It prepares your body for anxiety, making you actually feel anxious, which then confirms the brain's prediction. What your conscious self is good at is long-term planning and abstract thinking. It's a storyteller that tells the story of your life to your brain and to yourself. You are able to see the big picture that your internal prediction machine could never begin to grasp. Brilliant helps you get smarter every day, with thousands of bite-sized interactive lessons. Explore the big ideas powering technology like AI or learn the fundamentals of programming. delve into the physics behind everything from a game of pool to black holes. Learn how language models like chat GBT choose their next words. Their latest course on generative AI will help boost your human intelligence. Whatever you choose to learn on Brilliant, it only takes a few minutes each day to change your reality. Wishlisting is incredibly important for indie games like Hours. It helps us get noticed, reach more players and keeps you updated as we develop the game. If you want to be part of this adventure, please wishlist to starbirds on steam using the link in the description.\n"
          ]
        }
      ]
    },
    {
      "cell_type": "markdown",
      "source": [
        "Making the output legible"
      ],
      "metadata": {
        "id": "qHSvWyQl_Iz1"
      }
    },
    {
      "cell_type": "code",
      "source": [
        "import textwrap\n",
        "\n",
        "print(\"📋 Summary:\\n\")\n",
        "wrapped_summary = textwrap.fill(summary, width=100)  # Adjust width as needed\n",
        "print(wrapped_summary)"
      ],
      "metadata": {
        "id": "mSBJe43576eW",
        "colab": {
          "base_uri": "https://localhost:8080/"
        },
        "outputId": "2d18e324-6cf9-42af-fb7f-ceab64c5eb1e"
      },
      "execution_count": 3,
      "outputs": [
        {
          "output_type": "stream",
          "name": "stdout",
          "text": [
            "📋 Summary:\n",
            "\n",
            "The world you see is not real. You're not living in this very moment that you're experiencing. It\n",
            "turns out your brain constructs your reality. It edits your memories as they happen. It lives in\n",
            "totally different timesfares and tells you a story about the world that feels real. Each day for\n",
            "around two hours you're completely blind. Your brain fills this time with its best guesses of what\n",
            "happened during the blackness. If you could actually see what your eyes see, it would look something\n",
            "like this. What you feel is now is in fact a selectively edited version of the past. You really only\n",
            "consciously experience the world 0.3 to 0.5 seconds after things happened. If your brain showed you\n",
            "the past whether ball was 100 milliseconds ago it would hit you before you could react. So instead\n",
            "your brain takes its location, speed and direction and calculates where the ball should be in the\n",
            "future. By the time the information reaches you and then it creates a fictional version of it. Your\n",
            "conscious experience is nothing more than an invented future. By the time you consciously see the\n",
            "ball coming at you and decide to hit it in a particular way your body has already hit it back. This\n",
            "is not just true for extreme sports like come, table tennis, but also for walking. Walking is time\n",
            "travel. Your brain is operating in three different timesfares at once. It processes the sensory\n",
            "feedback of the past. It calculates the current state of your body and it predicts your future.\n",
            "Within 200 milliseconds pre-programmed sequences activate to catch your fall. 100 milliseconds later\n",
            "when you become aware that you're tripping your body is already recovering. You are only just now\n",
            "catching up. Your sense of hunger, your energy level and especially your emotions are not just\n",
            "objective reactions to what state you're in but predictions. Your brain's prediction of what you'll\n",
            "need soon or need to be ready for. A self fulfilling prophecy. If your brain predicts anxiousness it\n",
            "adjusts your heart rate, hormone levels and muscle tensions before you even enter the room. It\n",
            "prepares your body for anxiety, making you actually feel anxious, which then confirms the brain's\n",
            "prediction. What your conscious self is good at is long-term planning and abstract thinking. It's a\n",
            "storyteller that tells the story of your life to your brain and to yourself. You are able to see the\n",
            "big picture that your internal prediction machine could never begin to grasp. Brilliant helps you\n",
            "get smarter every day, with thousands of bite-sized interactive lessons. Explore the big ideas\n",
            "powering technology like AI or learn the fundamentals of programming. delve into the physics behind\n",
            "everything from a game of pool to black holes. Learn how language models like chat GBT choose their\n",
            "next words. Their latest course on generative AI will help boost your human intelligence. Whatever\n",
            "you choose to learn on Brilliant, it only takes a few minutes each day to change your reality.\n",
            "Wishlisting is incredibly important for indie games like Hours. It helps us get noticed, reach more\n",
            "players and keeps you updated as we develop the game. If you want to be part of this adventure,\n",
            "please wishlist to starbirds on steam using the link in the description.\n"
          ]
        }
      ]
    }
  ]
}